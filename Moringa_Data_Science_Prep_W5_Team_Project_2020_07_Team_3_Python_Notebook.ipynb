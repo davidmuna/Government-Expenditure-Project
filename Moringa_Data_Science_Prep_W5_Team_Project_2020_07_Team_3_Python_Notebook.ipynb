{
  "nbformat": 4,
  "nbformat_minor": 0,
  "metadata": {
    "colab": {
      "name": "Moringa_Data_Science_Prep_W5_Team_Project_2020_07_Team_3_Python_Notebook",
      "provenance": [],
      "collapsed_sections": [],
      "include_colab_link": true
    },
    "kernelspec": {
      "name": "python3",
      "display_name": "Python 3"
    }
  },
  "cells": [
    {
      "cell_type": "markdown",
      "metadata": {
        "id": "view-in-github",
        "colab_type": "text"
      },
      "source": [
        "<a href=\"https://colab.research.google.com/github/davidmuna/Government-Expenditure-Project/blob/master/Moringa_Data_Science_Prep_W5_Team_Project_2020_07_Team_3_Python_Notebook.ipynb\" target=\"_parent\"><img src=\"https://colab.research.google.com/assets/colab-badge.svg\" alt=\"Open In Colab\"/></a>"
      ]
    },
    {
      "cell_type": "markdown",
      "metadata": {
        "id": "zERjtLoSL1js",
        "colab_type": "text"
      },
      "source": [
        "## <font color=\"green\">Identifying the relationship between GDP, Government Expenditure  and how they relate with the Health and Education sectors of the economy.</font>"
      ]
    },
    {
      "cell_type": "markdown",
      "metadata": {
        "id": "tMorzwEdMnhX",
        "colab_type": "text"
      },
      "source": [
        "## Step 1: Report Writing & Business Understanding\n",
        "\n",
        "\n",
        "\n"
      ]
    },
    {
      "cell_type": "markdown",
      "metadata": {
        "id": "QdrSkHEP35t5",
        "colab_type": "text"
      },
      "source": [
        "\n",
        "### Leah Lipesa & Molly Abisage\n",
        "\n",
        "The government's role in economic growth has been an issue since way back with the perception that, for sustainable development and efficient output, the government's role in economic policies should be reduced. Given this fiscal scenario, there is a need to identify the relationship between GDP, Government Expenditure on the two sectors, and how they relate to growth of GDP in Kenya's economy. \n"
      ]
    },
    {
      "cell_type": "markdown",
      "metadata": {
        "id": "sMVIZyM7NAWR",
        "colab_type": "text"
      },
      "source": [
        "## Step 2: Data Preparation and Cleaning"
      ]
    },
    {
      "cell_type": "markdown",
      "metadata": {
        "id": "-KXUxWLb3wKH",
        "colab_type": "text"
      },
      "source": [
        "### Vicky Mumo, Shirley Mbeyu & Mercy Gichuhi"
      ]
    },
    {
      "cell_type": "code",
      "metadata": {
        "id": "lSgqRwUIBDlg",
        "colab_type": "code",
        "colab": {}
      },
      "source": [
        "#Importing libraries\n",
        "import pandas as pd\n",
        "import numpy as np\n",
        "\n",
        "#Importing seaborn and matplotlib libraries for visualisation\n",
        "import matplotlib.pyplot as plt\n",
        "import seaborn as sb\n"
      ],
      "execution_count": null,
      "outputs": []
    },
    {
      "cell_type": "markdown",
      "metadata": {
        "id": "N_F-buI9d2r5",
        "colab_type": "text"
      },
      "source": [
        ">You can download the dataset we have used here [link](https://drive.google.com/file/d/1LT5GKjXRxBNy2XBiW0mJiKNGe0JTNJoC/view)\n",
        "\n",
        ">You can view the description for the dataset here [link](https://docs.google.com/document/d/19OWZomN31E_A8gDmJAj7pXP_4lFjZusuhjx371eHm3A/edit) "
      ]
    },
    {
      "cell_type": "code",
      "metadata": {
        "id": "WY1XbZBFBEug",
        "colab_type": "code",
        "colab": {
          "base_uri": "https://localhost:8080/"
        },
        "outputId": "b05196cb-9822-421f-8b77-09d40acb888f"
      },
      "source": [
        "#loading the dataset file to our environment\n",
        "df = pd.read_excel('gdp_dataset.xlsx')\n",
        "df.head(3)"
      ],
      "execution_count": null,
      "outputs": [
        {
          "output_type": "execute_result",
          "data": {
            "text/html": [
              "<div>\n",
              "<style scoped>\n",
              "    .dataframe tbody tr th:only-of-type {\n",
              "        vertical-align: middle;\n",
              "    }\n",
              "\n",
              "    .dataframe tbody tr th {\n",
              "        vertical-align: top;\n",
              "    }\n",
              "\n",
              "    .dataframe thead th {\n",
              "        text-align: right;\n",
              "    }\n",
              "</style>\n",
              "<table border=\"1\" class=\"dataframe\">\n",
              "  <thead>\n",
              "    <tr style=\"text-align: right;\">\n",
              "      <th></th>\n",
              "      <th>Indicator Name</th>\n",
              "      <th>Expenditure on secondary education (% of government expenditure on education)</th>\n",
              "      <th>Current health expenditure per capita (current US$)</th>\n",
              "      <th>Government expenditure on education, total (% of government expenditure)</th>\n",
              "      <th>Current health expenditure (% of GDP)</th>\n",
              "      <th>Tax revenue (% of GDP)</th>\n",
              "      <th>Revenue, excluding grants (% of GDP)</th>\n",
              "      <th>IBRD loans and IDA credits (DOD, current US$)</th>\n",
              "      <th>Population growth (annual %)</th>\n",
              "      <th>GDP per capita growth (annual %)</th>\n",
              "      <th>GDP deflator (base year varies by country)</th>\n",
              "      <th>Domestic general government health expenditure (% of GDP)</th>\n",
              "      <th>GDP growth (annual %)</th>\n",
              "      <th>GDP (current US$)</th>\n",
              "      <th>Gross national expenditure (% of GDP)</th>\n",
              "      <th>GDP (current LCU)</th>\n",
              "    </tr>\n",
              "  </thead>\n",
              "  <tbody>\n",
              "    <tr>\n",
              "      <th>0</th>\n",
              "      <td>2003</td>\n",
              "      <td>20.85074</td>\n",
              "      <td>25.437891</td>\n",
              "      <td>24.98009</td>\n",
              "      <td>5.169123</td>\n",
              "      <td>NaN</td>\n",
              "      <td>NaN</td>\n",
              "      <td>2.741964e+09</td>\n",
              "      <td>2.709600</td>\n",
              "      <td>0.180864</td>\n",
              "      <td>51.824235</td>\n",
              "      <td>1.488423</td>\n",
              "      <td>2.932476</td>\n",
              "      <td>1.490452e+10</td>\n",
              "      <td>111.732648</td>\n",
              "      <td>1131782000000</td>\n",
              "    </tr>\n",
              "    <tr>\n",
              "      <th>1</th>\n",
              "      <td>2004</td>\n",
              "      <td>23.40954</td>\n",
              "      <td>27.526983</td>\n",
              "      <td>26.66815</td>\n",
              "      <td>5.344949</td>\n",
              "      <td>NaN</td>\n",
              "      <td>NaN</td>\n",
              "      <td>2.882726e+09</td>\n",
              "      <td>2.720796</td>\n",
              "      <td>2.283178</td>\n",
              "      <td>55.517666</td>\n",
              "      <td>1.416008</td>\n",
              "      <td>5.104300</td>\n",
              "      <td>1.609534e+10</td>\n",
              "      <td>110.347249</td>\n",
              "      <td>1274329000000</td>\n",
              "    </tr>\n",
              "    <tr>\n",
              "      <th>2</th>\n",
              "      <td>2005</td>\n",
              "      <td>NaN</td>\n",
              "      <td>30.960957</td>\n",
              "      <td>27.46934</td>\n",
              "      <td>5.314364</td>\n",
              "      <td>NaN</td>\n",
              "      <td>NaN</td>\n",
              "      <td>2.663224e+09</td>\n",
              "      <td>2.739229</td>\n",
              "      <td>3.045012</td>\n",
              "      <td>58.237838</td>\n",
              "      <td>1.482691</td>\n",
              "      <td>5.906666</td>\n",
              "      <td>1.873790e+10</td>\n",
              "      <td>110.429285</td>\n",
              "      <td>1415725000000</td>\n",
              "    </tr>\n",
              "  </tbody>\n",
              "</table>\n",
              "</div>"
            ],
            "text/plain": [
              "   Indicator Name  ...  GDP (current LCU)\n",
              "0            2003  ...      1131782000000\n",
              "1            2004  ...      1274329000000\n",
              "2            2005  ...      1415725000000\n",
              "\n",
              "[3 rows x 16 columns]"
            ]
          },
          "metadata": {
            "tags": []
          },
          "execution_count": 67
        }
      ]
    },
    {
      "cell_type": "code",
      "metadata": {
        "id": "qMivNZ37JU66",
        "colab_type": "code",
        "colab": {
          "base_uri": "https://localhost:8080/"
        },
        "outputId": "e645c2e6-5270-4e0f-b0da-d099e6a1e8eb"
      },
      "source": [
        "df.dtypes"
      ],
      "execution_count": null,
      "outputs": [
        {
          "output_type": "execute_result",
          "data": {
            "text/plain": [
              "Indicator Name                                                                     int64\n",
              "Expenditure on secondary education (% of government expenditure on education)    float64\n",
              "Current health expenditure per capita (current US$)                              float64\n",
              "Government expenditure on education, total (% of government expenditure)         float64\n",
              "Current health expenditure (% of GDP)                                            float64\n",
              "Tax revenue (% of GDP)                                                           float64\n",
              "Revenue, excluding grants (% of GDP)                                             float64\n",
              "IBRD loans and IDA credits (DOD, current US$)                                    float64\n",
              "Population growth (annual %)                                                     float64\n",
              "GDP per capita growth (annual %)                                                 float64\n",
              "GDP deflator (base year varies by country)                                       float64\n",
              "Domestic general government health expenditure (% of GDP)                        float64\n",
              "GDP growth (annual %)                                                            float64\n",
              "GDP (current US$)                                                                float64\n",
              "Gross national expenditure (% of GDP)                                            float64\n",
              "GDP (current LCU)                                                                  int64\n",
              "dtype: object"
            ]
          },
          "metadata": {
            "tags": []
          },
          "execution_count": 68
        }
      ]
    },
    {
      "cell_type": "code",
      "metadata": {
        "id": "TvBV5MsFUIND",
        "colab_type": "code",
        "colab": {
          "base_uri": "https://localhost:8080/"
        },
        "outputId": "8d3fef2f-ccf8-4eed-beee-0e41c8af3793"
      },
      "source": [
        "#changing the column names\n",
        "df.columns=['year','expe_education_%expe','health_expe_/capita','total_education_expe','health_expe_%gdp','tax_revenue_%gdp','revenue_excl_grants_%gdp','ibrd_and_ida','population_growth_annual%','gdp_growth_/capita_%gdp','gdp deflator','domestic_health_expenditure_%gdp','gdp_growth_annual%','gdp_current_us$','gross_nat_expe_%gdp','gdp_current_lcu']\n",
        "df.head(3)"
      ],
      "execution_count": null,
      "outputs": [
        {
          "output_type": "execute_result",
          "data": {
            "text/html": [
              "<div>\n",
              "<style scoped>\n",
              "    .dataframe tbody tr th:only-of-type {\n",
              "        vertical-align: middle;\n",
              "    }\n",
              "\n",
              "    .dataframe tbody tr th {\n",
              "        vertical-align: top;\n",
              "    }\n",
              "\n",
              "    .dataframe thead th {\n",
              "        text-align: right;\n",
              "    }\n",
              "</style>\n",
              "<table border=\"1\" class=\"dataframe\">\n",
              "  <thead>\n",
              "    <tr style=\"text-align: right;\">\n",
              "      <th></th>\n",
              "      <th>year</th>\n",
              "      <th>expe_education_%expe</th>\n",
              "      <th>health_expe_/capita</th>\n",
              "      <th>total_education_expe</th>\n",
              "      <th>health_expe_%gdp</th>\n",
              "      <th>tax_revenue_%gdp</th>\n",
              "      <th>revenue_excl_grants_%gdp</th>\n",
              "      <th>ibrd_and_ida</th>\n",
              "      <th>population_growth_annual%</th>\n",
              "      <th>gdp_growth_/capita_%gdp</th>\n",
              "      <th>gdp deflator</th>\n",
              "      <th>domestic_health_expenditure_%gdp</th>\n",
              "      <th>gdp_growth_annual%</th>\n",
              "      <th>gdp_current_us$</th>\n",
              "      <th>gross_nat_expe_%gdp</th>\n",
              "      <th>gdp_current_lcu</th>\n",
              "    </tr>\n",
              "  </thead>\n",
              "  <tbody>\n",
              "    <tr>\n",
              "      <th>0</th>\n",
              "      <td>2003</td>\n",
              "      <td>20.85074</td>\n",
              "      <td>25.437891</td>\n",
              "      <td>24.98009</td>\n",
              "      <td>5.169123</td>\n",
              "      <td>NaN</td>\n",
              "      <td>NaN</td>\n",
              "      <td>2.741964e+09</td>\n",
              "      <td>2.709600</td>\n",
              "      <td>0.180864</td>\n",
              "      <td>51.824235</td>\n",
              "      <td>1.488423</td>\n",
              "      <td>2.932476</td>\n",
              "      <td>1.490452e+10</td>\n",
              "      <td>111.732648</td>\n",
              "      <td>1131782000000</td>\n",
              "    </tr>\n",
              "    <tr>\n",
              "      <th>1</th>\n",
              "      <td>2004</td>\n",
              "      <td>23.40954</td>\n",
              "      <td>27.526983</td>\n",
              "      <td>26.66815</td>\n",
              "      <td>5.344949</td>\n",
              "      <td>NaN</td>\n",
              "      <td>NaN</td>\n",
              "      <td>2.882726e+09</td>\n",
              "      <td>2.720796</td>\n",
              "      <td>2.283178</td>\n",
              "      <td>55.517666</td>\n",
              "      <td>1.416008</td>\n",
              "      <td>5.104300</td>\n",
              "      <td>1.609534e+10</td>\n",
              "      <td>110.347249</td>\n",
              "      <td>1274329000000</td>\n",
              "    </tr>\n",
              "    <tr>\n",
              "      <th>2</th>\n",
              "      <td>2005</td>\n",
              "      <td>NaN</td>\n",
              "      <td>30.960957</td>\n",
              "      <td>27.46934</td>\n",
              "      <td>5.314364</td>\n",
              "      <td>NaN</td>\n",
              "      <td>NaN</td>\n",
              "      <td>2.663224e+09</td>\n",
              "      <td>2.739229</td>\n",
              "      <td>3.045012</td>\n",
              "      <td>58.237838</td>\n",
              "      <td>1.482691</td>\n",
              "      <td>5.906666</td>\n",
              "      <td>1.873790e+10</td>\n",
              "      <td>110.429285</td>\n",
              "      <td>1415725000000</td>\n",
              "    </tr>\n",
              "  </tbody>\n",
              "</table>\n",
              "</div>"
            ],
            "text/plain": [
              "   year  expe_education_%expe  ...  gross_nat_expe_%gdp  gdp_current_lcu\n",
              "0  2003              20.85074  ...           111.732648    1131782000000\n",
              "1  2004              23.40954  ...           110.347249    1274329000000\n",
              "2  2005                   NaN  ...           110.429285    1415725000000\n",
              "\n",
              "[3 rows x 16 columns]"
            ]
          },
          "metadata": {
            "tags": []
          },
          "execution_count": 69
        }
      ]
    },
    {
      "cell_type": "code",
      "metadata": {
        "id": "V74lqr40UMyP",
        "colab_type": "code",
        "colab": {
          "base_uri": "https://localhost:8080/"
        },
        "outputId": "18eeaa5a-994c-4d7c-90b7-c991de3d8068"
      },
      "source": [
        "#checking for any null values\n",
        "df.isnull().sum()"
      ],
      "execution_count": null,
      "outputs": [
        {
          "output_type": "execute_result",
          "data": {
            "text/plain": [
              "year                                 0\n",
              "expe_education_%expe                 9\n",
              "health_expe_/capita                  2\n",
              "total_education_expe                 4\n",
              "health_expe_%gdp                     2\n",
              "tax_revenue_%gdp                    12\n",
              "revenue_excl_grants_%gdp            12\n",
              "ibrd_and_ida                         1\n",
              "population_growth_annual%            0\n",
              "gdp_growth_/capita_%gdp              0\n",
              "gdp deflator                         0\n",
              "domestic_health_expenditure_%gdp     2\n",
              "gdp_growth_annual%                   0\n",
              "gdp_current_us$                      0\n",
              "gross_nat_expe_%gdp                  0\n",
              "gdp_current_lcu                      0\n",
              "dtype: int64"
            ]
          },
          "metadata": {
            "tags": []
          },
          "execution_count": 70
        }
      ]
    },
    {
      "cell_type": "code",
      "metadata": {
        "id": "0-Gye92gUPwn",
        "colab_type": "code",
        "colab": {
          "base_uri": "https://localhost:8080/"
        },
        "outputId": "c84a2a5a-c9b7-49aa-8061-290845ad50de"
      },
      "source": [
        "#cleaning up the missing values by backfilling and interpolation.\n",
        "df['tax_revenue_%gdp'].fillna(method='bfill',inplace=True)\n",
        "df['revenue_excl_grants_%gdp'].fillna(method='bfill',inplace=True)\n",
        "df = df.interpolate()\n",
        "df.head(3)"
      ],
      "execution_count": null,
      "outputs": [
        {
          "output_type": "execute_result",
          "data": {
            "text/html": [
              "<div>\n",
              "<style scoped>\n",
              "    .dataframe tbody tr th:only-of-type {\n",
              "        vertical-align: middle;\n",
              "    }\n",
              "\n",
              "    .dataframe tbody tr th {\n",
              "        vertical-align: top;\n",
              "    }\n",
              "\n",
              "    .dataframe thead th {\n",
              "        text-align: right;\n",
              "    }\n",
              "</style>\n",
              "<table border=\"1\" class=\"dataframe\">\n",
              "  <thead>\n",
              "    <tr style=\"text-align: right;\">\n",
              "      <th></th>\n",
              "      <th>year</th>\n",
              "      <th>expe_education_%expe</th>\n",
              "      <th>health_expe_/capita</th>\n",
              "      <th>total_education_expe</th>\n",
              "      <th>health_expe_%gdp</th>\n",
              "      <th>tax_revenue_%gdp</th>\n",
              "      <th>revenue_excl_grants_%gdp</th>\n",
              "      <th>ibrd_and_ida</th>\n",
              "      <th>population_growth_annual%</th>\n",
              "      <th>gdp_growth_/capita_%gdp</th>\n",
              "      <th>gdp deflator</th>\n",
              "      <th>domestic_health_expenditure_%gdp</th>\n",
              "      <th>gdp_growth_annual%</th>\n",
              "      <th>gdp_current_us$</th>\n",
              "      <th>gross_nat_expe_%gdp</th>\n",
              "      <th>gdp_current_lcu</th>\n",
              "    </tr>\n",
              "  </thead>\n",
              "  <tbody>\n",
              "    <tr>\n",
              "      <th>0</th>\n",
              "      <td>2003</td>\n",
              "      <td>20.850740</td>\n",
              "      <td>25.437891</td>\n",
              "      <td>24.98009</td>\n",
              "      <td>5.169123</td>\n",
              "      <td>16.876979</td>\n",
              "      <td>21.738908</td>\n",
              "      <td>2.741964e+09</td>\n",
              "      <td>2.709600</td>\n",
              "      <td>0.180864</td>\n",
              "      <td>51.824235</td>\n",
              "      <td>1.488423</td>\n",
              "      <td>2.932476</td>\n",
              "      <td>1.490452e+10</td>\n",
              "      <td>111.732648</td>\n",
              "      <td>1131782000000</td>\n",
              "    </tr>\n",
              "    <tr>\n",
              "      <th>1</th>\n",
              "      <td>2004</td>\n",
              "      <td>23.409540</td>\n",
              "      <td>27.526983</td>\n",
              "      <td>26.66815</td>\n",
              "      <td>5.344949</td>\n",
              "      <td>16.876979</td>\n",
              "      <td>21.738908</td>\n",
              "      <td>2.882726e+09</td>\n",
              "      <td>2.720796</td>\n",
              "      <td>2.283178</td>\n",
              "      <td>55.517666</td>\n",
              "      <td>1.416008</td>\n",
              "      <td>5.104300</td>\n",
              "      <td>1.609534e+10</td>\n",
              "      <td>110.347249</td>\n",
              "      <td>1274329000000</td>\n",
              "    </tr>\n",
              "    <tr>\n",
              "      <th>2</th>\n",
              "      <td>2005</td>\n",
              "      <td>22.543655</td>\n",
              "      <td>30.960957</td>\n",
              "      <td>27.46934</td>\n",
              "      <td>5.314364</td>\n",
              "      <td>16.876979</td>\n",
              "      <td>21.738908</td>\n",
              "      <td>2.663224e+09</td>\n",
              "      <td>2.739229</td>\n",
              "      <td>3.045012</td>\n",
              "      <td>58.237838</td>\n",
              "      <td>1.482691</td>\n",
              "      <td>5.906666</td>\n",
              "      <td>1.873790e+10</td>\n",
              "      <td>110.429285</td>\n",
              "      <td>1415725000000</td>\n",
              "    </tr>\n",
              "  </tbody>\n",
              "</table>\n",
              "</div>"
            ],
            "text/plain": [
              "   year  expe_education_%expe  ...  gross_nat_expe_%gdp  gdp_current_lcu\n",
              "0  2003             20.850740  ...           111.732648    1131782000000\n",
              "1  2004             23.409540  ...           110.347249    1274329000000\n",
              "2  2005             22.543655  ...           110.429285    1415725000000\n",
              "\n",
              "[3 rows x 16 columns]"
            ]
          },
          "metadata": {
            "tags": []
          },
          "execution_count": 71
        }
      ]
    },
    {
      "cell_type": "code",
      "metadata": {
        "id": "8fmDR1FMUSlH",
        "colab_type": "code",
        "colab": {
          "base_uri": "https://localhost:8080/"
        },
        "outputId": "0b3144fc-5c44-4c36-eb0e-9696bbd48325"
      },
      "source": [
        "#dropping the gdp in US$ since we already have it in the local currency.\n",
        "df = df.drop(columns=['gdp_current_us$'])\n",
        "df.head(3)"
      ],
      "execution_count": null,
      "outputs": [
        {
          "output_type": "execute_result",
          "data": {
            "text/html": [
              "<div>\n",
              "<style scoped>\n",
              "    .dataframe tbody tr th:only-of-type {\n",
              "        vertical-align: middle;\n",
              "    }\n",
              "\n",
              "    .dataframe tbody tr th {\n",
              "        vertical-align: top;\n",
              "    }\n",
              "\n",
              "    .dataframe thead th {\n",
              "        text-align: right;\n",
              "    }\n",
              "</style>\n",
              "<table border=\"1\" class=\"dataframe\">\n",
              "  <thead>\n",
              "    <tr style=\"text-align: right;\">\n",
              "      <th></th>\n",
              "      <th>year</th>\n",
              "      <th>expe_education_%expe</th>\n",
              "      <th>health_expe_/capita</th>\n",
              "      <th>total_education_expe</th>\n",
              "      <th>health_expe_%gdp</th>\n",
              "      <th>tax_revenue_%gdp</th>\n",
              "      <th>revenue_excl_grants_%gdp</th>\n",
              "      <th>ibrd_and_ida</th>\n",
              "      <th>population_growth_annual%</th>\n",
              "      <th>gdp_growth_/capita_%gdp</th>\n",
              "      <th>gdp deflator</th>\n",
              "      <th>domestic_health_expenditure_%gdp</th>\n",
              "      <th>gdp_growth_annual%</th>\n",
              "      <th>gross_nat_expe_%gdp</th>\n",
              "      <th>gdp_current_lcu</th>\n",
              "    </tr>\n",
              "  </thead>\n",
              "  <tbody>\n",
              "    <tr>\n",
              "      <th>0</th>\n",
              "      <td>2003</td>\n",
              "      <td>20.850740</td>\n",
              "      <td>25.437891</td>\n",
              "      <td>24.98009</td>\n",
              "      <td>5.169123</td>\n",
              "      <td>16.876979</td>\n",
              "      <td>21.738908</td>\n",
              "      <td>2.741964e+09</td>\n",
              "      <td>2.709600</td>\n",
              "      <td>0.180864</td>\n",
              "      <td>51.824235</td>\n",
              "      <td>1.488423</td>\n",
              "      <td>2.932476</td>\n",
              "      <td>111.732648</td>\n",
              "      <td>1131782000000</td>\n",
              "    </tr>\n",
              "    <tr>\n",
              "      <th>1</th>\n",
              "      <td>2004</td>\n",
              "      <td>23.409540</td>\n",
              "      <td>27.526983</td>\n",
              "      <td>26.66815</td>\n",
              "      <td>5.344949</td>\n",
              "      <td>16.876979</td>\n",
              "      <td>21.738908</td>\n",
              "      <td>2.882726e+09</td>\n",
              "      <td>2.720796</td>\n",
              "      <td>2.283178</td>\n",
              "      <td>55.517666</td>\n",
              "      <td>1.416008</td>\n",
              "      <td>5.104300</td>\n",
              "      <td>110.347249</td>\n",
              "      <td>1274329000000</td>\n",
              "    </tr>\n",
              "    <tr>\n",
              "      <th>2</th>\n",
              "      <td>2005</td>\n",
              "      <td>22.543655</td>\n",
              "      <td>30.960957</td>\n",
              "      <td>27.46934</td>\n",
              "      <td>5.314364</td>\n",
              "      <td>16.876979</td>\n",
              "      <td>21.738908</td>\n",
              "      <td>2.663224e+09</td>\n",
              "      <td>2.739229</td>\n",
              "      <td>3.045012</td>\n",
              "      <td>58.237838</td>\n",
              "      <td>1.482691</td>\n",
              "      <td>5.906666</td>\n",
              "      <td>110.429285</td>\n",
              "      <td>1415725000000</td>\n",
              "    </tr>\n",
              "  </tbody>\n",
              "</table>\n",
              "</div>"
            ],
            "text/plain": [
              "   year  expe_education_%expe  ...  gross_nat_expe_%gdp  gdp_current_lcu\n",
              "0  2003             20.850740  ...           111.732648    1131782000000\n",
              "1  2004             23.409540  ...           110.347249    1274329000000\n",
              "2  2005             22.543655  ...           110.429285    1415725000000\n",
              "\n",
              "[3 rows x 15 columns]"
            ]
          },
          "metadata": {
            "tags": []
          },
          "execution_count": 72
        }
      ]
    },
    {
      "cell_type": "code",
      "metadata": {
        "id": "LOI51S9YUVgS",
        "colab_type": "code",
        "colab": {
          "base_uri": "https://localhost:8080/"
        },
        "outputId": "8c5cdab7-b19c-42a2-9bdc-aaea815a78db"
      },
      "source": [
        "#rounding off the data to 4 decimal places.\n",
        "df = df.round(4)\n",
        "df.head(3)"
      ],
      "execution_count": null,
      "outputs": [
        {
          "output_type": "execute_result",
          "data": {
            "text/html": [
              "<div>\n",
              "<style scoped>\n",
              "    .dataframe tbody tr th:only-of-type {\n",
              "        vertical-align: middle;\n",
              "    }\n",
              "\n",
              "    .dataframe tbody tr th {\n",
              "        vertical-align: top;\n",
              "    }\n",
              "\n",
              "    .dataframe thead th {\n",
              "        text-align: right;\n",
              "    }\n",
              "</style>\n",
              "<table border=\"1\" class=\"dataframe\">\n",
              "  <thead>\n",
              "    <tr style=\"text-align: right;\">\n",
              "      <th></th>\n",
              "      <th>year</th>\n",
              "      <th>expe_education_%expe</th>\n",
              "      <th>health_expe_/capita</th>\n",
              "      <th>total_education_expe</th>\n",
              "      <th>health_expe_%gdp</th>\n",
              "      <th>tax_revenue_%gdp</th>\n",
              "      <th>revenue_excl_grants_%gdp</th>\n",
              "      <th>ibrd_and_ida</th>\n",
              "      <th>population_growth_annual%</th>\n",
              "      <th>gdp_growth_/capita_%gdp</th>\n",
              "      <th>gdp deflator</th>\n",
              "      <th>domestic_health_expenditure_%gdp</th>\n",
              "      <th>gdp_growth_annual%</th>\n",
              "      <th>gross_nat_expe_%gdp</th>\n",
              "      <th>gdp_current_lcu</th>\n",
              "    </tr>\n",
              "  </thead>\n",
              "  <tbody>\n",
              "    <tr>\n",
              "      <th>0</th>\n",
              "      <td>2003</td>\n",
              "      <td>20.8507</td>\n",
              "      <td>25.4379</td>\n",
              "      <td>24.9801</td>\n",
              "      <td>5.1691</td>\n",
              "      <td>16.877</td>\n",
              "      <td>21.7389</td>\n",
              "      <td>2.741964e+09</td>\n",
              "      <td>2.7096</td>\n",
              "      <td>0.1809</td>\n",
              "      <td>51.8242</td>\n",
              "      <td>1.4884</td>\n",
              "      <td>2.9325</td>\n",
              "      <td>111.7326</td>\n",
              "      <td>1131782000000</td>\n",
              "    </tr>\n",
              "    <tr>\n",
              "      <th>1</th>\n",
              "      <td>2004</td>\n",
              "      <td>23.4095</td>\n",
              "      <td>27.5270</td>\n",
              "      <td>26.6682</td>\n",
              "      <td>5.3449</td>\n",
              "      <td>16.877</td>\n",
              "      <td>21.7389</td>\n",
              "      <td>2.882726e+09</td>\n",
              "      <td>2.7208</td>\n",
              "      <td>2.2832</td>\n",
              "      <td>55.5177</td>\n",
              "      <td>1.4160</td>\n",
              "      <td>5.1043</td>\n",
              "      <td>110.3472</td>\n",
              "      <td>1274329000000</td>\n",
              "    </tr>\n",
              "    <tr>\n",
              "      <th>2</th>\n",
              "      <td>2005</td>\n",
              "      <td>22.5437</td>\n",
              "      <td>30.9610</td>\n",
              "      <td>27.4693</td>\n",
              "      <td>5.3144</td>\n",
              "      <td>16.877</td>\n",
              "      <td>21.7389</td>\n",
              "      <td>2.663224e+09</td>\n",
              "      <td>2.7392</td>\n",
              "      <td>3.0450</td>\n",
              "      <td>58.2378</td>\n",
              "      <td>1.4827</td>\n",
              "      <td>5.9067</td>\n",
              "      <td>110.4293</td>\n",
              "      <td>1415725000000</td>\n",
              "    </tr>\n",
              "  </tbody>\n",
              "</table>\n",
              "</div>"
            ],
            "text/plain": [
              "   year  expe_education_%expe  ...  gross_nat_expe_%gdp  gdp_current_lcu\n",
              "0  2003               20.8507  ...             111.7326    1131782000000\n",
              "1  2004               23.4095  ...             110.3472    1274329000000\n",
              "2  2005               22.5437  ...             110.4293    1415725000000\n",
              "\n",
              "[3 rows x 15 columns]"
            ]
          },
          "metadata": {
            "tags": []
          },
          "execution_count": 73
        }
      ]
    },
    {
      "cell_type": "code",
      "metadata": {
        "id": "-r7P4pzYVEks",
        "colab_type": "code",
        "colab": {}
      },
      "source": [
        "#Exporting our cleaned dataset\n",
        "df.to_csv('new_dataset.csv', index = False)\n"
      ],
      "execution_count": null,
      "outputs": []
    },
    {
      "cell_type": "markdown",
      "metadata": {
        "colab_type": "text",
        "id": "IwmgiZAchuJZ"
      },
      "source": [
        "## Step 3: Data Analysis\n",
        "\n",
        "   Biko Mwangi, Mariam Mupa, David Muna & Maurice Kimanzi"
      ]
    },
    {
      "cell_type": "markdown",
      "metadata": {
        "colab_type": "text",
        "id": "3uwnoIoSAhJV"
      },
      "source": [
        "### Research Questions:\n",
        "\n",
        "\n"
      ]
    },
    {
      "cell_type": "code",
      "metadata": {
        "id": "9v9Ps10mR4xp",
        "colab_type": "code",
        "colab": {
          "base_uri": "https://localhost:8080/"
        },
        "outputId": "7ec3bfb3-63db-4762-9cf6-138cb3814b9a"
      },
      "source": [
        "#Previewing cleaned dataset\n",
        "df = pd.read_csv('new_dataset.csv')\n",
        "df.head(3)"
      ],
      "execution_count": null,
      "outputs": [
        {
          "output_type": "execute_result",
          "data": {
            "text/html": [
              "<div>\n",
              "<style scoped>\n",
              "    .dataframe tbody tr th:only-of-type {\n",
              "        vertical-align: middle;\n",
              "    }\n",
              "\n",
              "    .dataframe tbody tr th {\n",
              "        vertical-align: top;\n",
              "    }\n",
              "\n",
              "    .dataframe thead th {\n",
              "        text-align: right;\n",
              "    }\n",
              "</style>\n",
              "<table border=\"1\" class=\"dataframe\">\n",
              "  <thead>\n",
              "    <tr style=\"text-align: right;\">\n",
              "      <th></th>\n",
              "      <th>year</th>\n",
              "      <th>expe_education_%expe</th>\n",
              "      <th>health_expe_/capita</th>\n",
              "      <th>total_education_expe</th>\n",
              "      <th>health_expe_%gdp</th>\n",
              "      <th>tax_revenue_%gdp</th>\n",
              "      <th>revenue_excl_grants_%gdp</th>\n",
              "      <th>ibrd_and_ida</th>\n",
              "      <th>population_growth_annual%</th>\n",
              "      <th>gdp_growth_/capita_%gdp</th>\n",
              "      <th>gdp deflator</th>\n",
              "      <th>domestic_health_expenditure_%gdp</th>\n",
              "      <th>gdp_growth_annual%</th>\n",
              "      <th>gross_nat_expe_%gdp</th>\n",
              "      <th>gdp_current_lcu</th>\n",
              "    </tr>\n",
              "  </thead>\n",
              "  <tbody>\n",
              "    <tr>\n",
              "      <th>0</th>\n",
              "      <td>2003</td>\n",
              "      <td>20.8507</td>\n",
              "      <td>25.4379</td>\n",
              "      <td>24.9801</td>\n",
              "      <td>5.1691</td>\n",
              "      <td>16.877</td>\n",
              "      <td>21.7389</td>\n",
              "      <td>2.741964e+09</td>\n",
              "      <td>2.7096</td>\n",
              "      <td>0.1809</td>\n",
              "      <td>51.8242</td>\n",
              "      <td>1.4884</td>\n",
              "      <td>2.9325</td>\n",
              "      <td>111.7326</td>\n",
              "      <td>1131782000000</td>\n",
              "    </tr>\n",
              "    <tr>\n",
              "      <th>1</th>\n",
              "      <td>2004</td>\n",
              "      <td>23.4095</td>\n",
              "      <td>27.5270</td>\n",
              "      <td>26.6682</td>\n",
              "      <td>5.3449</td>\n",
              "      <td>16.877</td>\n",
              "      <td>21.7389</td>\n",
              "      <td>2.882726e+09</td>\n",
              "      <td>2.7208</td>\n",
              "      <td>2.2832</td>\n",
              "      <td>55.5177</td>\n",
              "      <td>1.4160</td>\n",
              "      <td>5.1043</td>\n",
              "      <td>110.3472</td>\n",
              "      <td>1274329000000</td>\n",
              "    </tr>\n",
              "    <tr>\n",
              "      <th>2</th>\n",
              "      <td>2005</td>\n",
              "      <td>22.5437</td>\n",
              "      <td>30.9610</td>\n",
              "      <td>27.4693</td>\n",
              "      <td>5.3144</td>\n",
              "      <td>16.877</td>\n",
              "      <td>21.7389</td>\n",
              "      <td>2.663224e+09</td>\n",
              "      <td>2.7392</td>\n",
              "      <td>3.0450</td>\n",
              "      <td>58.2378</td>\n",
              "      <td>1.4827</td>\n",
              "      <td>5.9067</td>\n",
              "      <td>110.4293</td>\n",
              "      <td>1415725000000</td>\n",
              "    </tr>\n",
              "  </tbody>\n",
              "</table>\n",
              "</div>"
            ],
            "text/plain": [
              "   year  expe_education_%expe  ...  gross_nat_expe_%gdp  gdp_current_lcu\n",
              "0  2003               20.8507  ...             111.7326    1131782000000\n",
              "1  2004               23.4095  ...             110.3472    1274329000000\n",
              "2  2005               22.5437  ...             110.4293    1415725000000\n",
              "\n",
              "[3 rows x 15 columns]"
            ]
          },
          "metadata": {
            "tags": []
          },
          "execution_count": 75
        }
      ]
    },
    {
      "cell_type": "markdown",
      "metadata": {
        "id": "ayfacKiDvv5h",
        "colab_type": "text"
      },
      "source": [
        "## 1 <font color=\"green\"> Which year did kenya experience a high GDP growth.</font>\n",
        "\n",
        "*   From the graph below, we identified the year as 2010.\n",
        "\n",
        "\n"
      ]
    },
    {
      "cell_type": "code",
      "metadata": {
        "id": "r8CufvK_7UVJ",
        "colab_type": "code",
        "colab": {
          "base_uri": "https://localhost:8080/"
        },
        "outputId": "a367cf07-3614-49d0-dc5a-6e040fd10938"
      },
      "source": [
        "#Plotting the graph\n",
        "df.plot(x=\"year\", y=[\"gdp_growth_annual%\"], kind=\"bar\")"
      ],
      "execution_count": null,
      "outputs": [
        {
          "output_type": "execute_result",
          "data": {
            "text/plain": [
              "<matplotlib.axes._subplots.AxesSubplot at 0x7efd2ded0e10>"
            ]
          },
          "metadata": {
            "tags": []
          },
          "execution_count": 76
        },
        {
          "output_type": "display_data",
          "data": {
            "image/png": "[encoded data removed]",
            "text/plain": [
              "<Figure size 432x288 with 1 Axes>"
            ]
          },
          "metadata": {
            "tags": [],
            "needs_background": "light"
          }
        }
      ]
    },
    {
      "cell_type": "markdown",
      "metadata": {
        "id": "qTGlX-ptTvcn",
        "colab_type": "text"
      },
      "source": [
        "## 2 <font color=\"green\"> How does Govt. Revenue correlate with Govt. Expenditure.</font>"
      ]
    },
    {
      "cell_type": "code",
      "metadata": {
        "id": "84R2DejiBJ8g",
        "colab_type": "code",
        "colab": {
          "base_uri": "https://localhost:8080/"
        },
        "outputId": "ced588f0-fee3-4bf9-9cb3-5cc53f0e7efb"
      },
      "source": [
        "#calculating the correlation between variables in the dataset using Pearson's method\n",
        "df2 = df.corr(method='pearson')\n",
        "\n",
        "#Chosing the size of the heatmap\n",
        "plt.figure(figsize = (12,7)) \n",
        "\n",
        "#Displaying correlations using the seaborn heatmap \n",
        "sb.heatmap(df2, \n",
        "            xticklabels= df2.columns,\n",
        "            yticklabels= df2.columns,\n",
        "            cmap='RdBu_r',\n",
        "            annot=True,\n",
        "            linewidth=0.8)"
      ],
      "execution_count": null,
      "outputs": [
        {
          "output_type": "execute_result",
          "data": {
            "text/plain": [
              "<matplotlib.axes._subplots.AxesSubplot at 0x7efd2de9cc50>"
            ]
          },
          "metadata": {
            "tags": []
          },
          "execution_count": 77
        },
        {
          "output_type": "display_data",
          "data": {
            "image/png": "[encoded data removed]",
            "text/plain": [
              "<Figure size 864x504 with 2 Axes>"
            ]
          },
          "metadata": {
            "tags": [],
            "needs_background": "light"
          }
        }
      ]
    },
    {
      "cell_type": "markdown",
      "metadata": {
        "id": "XYXNpuwZP8J5",
        "colab_type": "text"
      },
      "source": [
        "### From the correlation Matrix's coefficients above, we derive the following information;"
      ]
    },
    {
      "cell_type": "markdown",
      "metadata": {
        "id": "1_3YwC-BTy4J",
        "colab_type": "text"
      },
      "source": [
        "\n",
        "###### <font color=\"green\">Revenue From Taxes.</font>\n",
        "\n",
        "\n",
        "*   Health Expenditure (health_expe_%gdp) has a strong correlation with Government Tax Revenue (tax_revenue_%gdp). The correlation coefficient is <font color=\"blue\">+0.78</font> which indicates they are directly proportional.\n",
        "\n",
        "*   Education Expenditure (total_education_expe) has a good correlation with Tax Revenue (tax_revenue_%gdp). The correlation coefficient is <font color=\"blue\">+0.47</font> which indicates they are directly proportional but not in the same manner as with the Health sector.\n",
        "\n",
        "###### <font color=\"green\">Revenue From IBRD loans & IDA credits.</font>\n",
        "*  Health Expenditure (health_expe_%gdp) has a strong correlation with IBRD loans & IDA credits (ibrd_and_ida). The correlation coefficient is <font color=\"blue\">+0.74</font> which indicates they are directly proportional.\n",
        "\n",
        "*   Education Expenditure (total_education_expe) has a significantly strong correlation with IBRD loans & IDA credits (ibrd_and_ida). The correlation coefficient is <font color=\"blue\">+0.75</font> which indicates they are directly proportional. It also indicates that Education is mostly funded through IBRD loans & IDA credits as opposed to Government Tax Revenue.\n",
        "\n",
        "\n",
        "\n",
        "\n",
        "\n",
        "\n",
        "\n",
        "\n"
      ]
    },
    {
      "cell_type": "markdown",
      "metadata": {
        "id": "_W9UjnlTWDDI",
        "colab_type": "text"
      },
      "source": [
        "## 3 <font color=\"green\">Education and Health Correlation with GDP growth.</font>"
      ]
    },
    {
      "cell_type": "markdown",
      "metadata": {
        "id": "OEDvpJESNm7h",
        "colab_type": "text"
      },
      "source": [
        "\n",
        "\n",
        "\n",
        "*  Education Expenditure (total_education_expe) has a negative correlation with GDP growth (gdp_growth_/capita_%gdp) over the years with a coefficient of <font color=\"blue\">-0.22</font>. This can be majorly attributed to the free education in kenya therefore leading to lower spending on education by citizens.\n",
        "\n",
        "*  Health Expenditure(health_expe_%gdp) also has a negative correlation with GDP growth (gdp_growth_/capita_%gdp) by <font color=\"blue\">-0.05</font> which concludes that they are inderictly proportaional. This is due to the lower overall health care spending in kenya due mainly to lower prices—including lower drug prices and lower salaries for doctors and nurses.\n"
      ]
    },
    {
      "cell_type": "markdown",
      "metadata": {
        "colab_type": "text",
        "id": "Z97vNfhFSWGW"
      },
      "source": [
        "## 4 <font color=\"green\">Which year had the highest expenditure on Health.</font>"
      ]
    },
    {
      "cell_type": "code",
      "metadata": {
        "id": "NDXZTS-83cqw",
        "colab_type": "code",
        "colab": {
          "base_uri": "https://localhost:8080/"
        },
        "outputId": "0f7f7ba7-ae81-429d-818d-aa417197367b"
      },
      "source": [
        "# finding gross national expd\n",
        "df['grossnational_exp'] = df[\"gross_nat_expe_%gdp\"] / 100 * df[\"gdp_current_lcu\"]\n",
        "df.head(3)"
      ],
      "execution_count": null,
      "outputs": [
        {
          "output_type": "execute_result",
          "data": {
            "text/html": [
              "<div>\n",
              "<style scoped>\n",
              "    .dataframe tbody tr th:only-of-type {\n",
              "        vertical-align: middle;\n",
              "    }\n",
              "\n",
              "    .dataframe tbody tr th {\n",
              "        vertical-align: top;\n",
              "    }\n",
              "\n",
              "    .dataframe thead th {\n",
              "        text-align: right;\n",
              "    }\n",
              "</style>\n",
              "<table border=\"1\" class=\"dataframe\">\n",
              "  <thead>\n",
              "    <tr style=\"text-align: right;\">\n",
              "      <th></th>\n",
              "      <th>year</th>\n",
              "      <th>expe_education_%expe</th>\n",
              "      <th>health_expe_/capita</th>\n",
              "      <th>total_education_expe</th>\n",
              "      <th>health_expe_%gdp</th>\n",
              "      <th>tax_revenue_%gdp</th>\n",
              "      <th>revenue_excl_grants_%gdp</th>\n",
              "      <th>ibrd_and_ida</th>\n",
              "      <th>population_growth_annual%</th>\n",
              "      <th>gdp_growth_/capita_%gdp</th>\n",
              "      <th>gdp deflator</th>\n",
              "      <th>domestic_health_expenditure_%gdp</th>\n",
              "      <th>gdp_growth_annual%</th>\n",
              "      <th>gross_nat_expe_%gdp</th>\n",
              "      <th>gdp_current_lcu</th>\n",
              "      <th>grossnational_exp</th>\n",
              "    </tr>\n",
              "  </thead>\n",
              "  <tbody>\n",
              "    <tr>\n",
              "      <th>0</th>\n",
              "      <td>2003</td>\n",
              "      <td>20.8507</td>\n",
              "      <td>25.4379</td>\n",
              "      <td>24.9801</td>\n",
              "      <td>5.1691</td>\n",
              "      <td>16.877</td>\n",
              "      <td>21.7389</td>\n",
              "      <td>2.741964e+09</td>\n",
              "      <td>2.7096</td>\n",
              "      <td>0.1809</td>\n",
              "      <td>51.8242</td>\n",
              "      <td>1.4884</td>\n",
              "      <td>2.9325</td>\n",
              "      <td>111.7326</td>\n",
              "      <td>1131782000000</td>\n",
              "      <td>1.264569e+12</td>\n",
              "    </tr>\n",
              "    <tr>\n",
              "      <th>1</th>\n",
              "      <td>2004</td>\n",
              "      <td>23.4095</td>\n",
              "      <td>27.5270</td>\n",
              "      <td>26.6682</td>\n",
              "      <td>5.3449</td>\n",
              "      <td>16.877</td>\n",
              "      <td>21.7389</td>\n",
              "      <td>2.882726e+09</td>\n",
              "      <td>2.7208</td>\n",
              "      <td>2.2832</td>\n",
              "      <td>55.5177</td>\n",
              "      <td>1.4160</td>\n",
              "      <td>5.1043</td>\n",
              "      <td>110.3472</td>\n",
              "      <td>1274329000000</td>\n",
              "      <td>1.406186e+12</td>\n",
              "    </tr>\n",
              "    <tr>\n",
              "      <th>2</th>\n",
              "      <td>2005</td>\n",
              "      <td>22.5437</td>\n",
              "      <td>30.9610</td>\n",
              "      <td>27.4693</td>\n",
              "      <td>5.3144</td>\n",
              "      <td>16.877</td>\n",
              "      <td>21.7389</td>\n",
              "      <td>2.663224e+09</td>\n",
              "      <td>2.7392</td>\n",
              "      <td>3.0450</td>\n",
              "      <td>58.2378</td>\n",
              "      <td>1.4827</td>\n",
              "      <td>5.9067</td>\n",
              "      <td>110.4293</td>\n",
              "      <td>1415725000000</td>\n",
              "      <td>1.563375e+12</td>\n",
              "    </tr>\n",
              "  </tbody>\n",
              "</table>\n",
              "</div>"
            ],
            "text/plain": [
              "   year  expe_education_%expe  ...  gdp_current_lcu  grossnational_exp\n",
              "0  2003               20.8507  ...    1131782000000       1.264569e+12\n",
              "1  2004               23.4095  ...    1274329000000       1.406186e+12\n",
              "2  2005               22.5437  ...    1415725000000       1.563375e+12\n",
              "\n",
              "[3 rows x 16 columns]"
            ]
          },
          "metadata": {
            "tags": []
          },
          "execution_count": 78
        }
      ]
    },
    {
      "cell_type": "code",
      "metadata": {
        "id": "EIJ4-67z4ivC",
        "colab_type": "code",
        "colab": {
          "base_uri": "https://localhost:8080/"
        },
        "outputId": "edae046c-4f87-43d1-fa25-4fb87abb77d6"
      },
      "source": [
        "# finding total education expd\n",
        "df[\"education_exp\"] = df[\"total_education_expe\"] / 100 * df[\"grossnational_exp\"]\n",
        "df.head(3)"
      ],
      "execution_count": null,
      "outputs": [
        {
          "output_type": "execute_result",
          "data": {
            "text/html": [
              "<div>\n",
              "<style scoped>\n",
              "    .dataframe tbody tr th:only-of-type {\n",
              "        vertical-align: middle;\n",
              "    }\n",
              "\n",
              "    .dataframe tbody tr th {\n",
              "        vertical-align: top;\n",
              "    }\n",
              "\n",
              "    .dataframe thead th {\n",
              "        text-align: right;\n",
              "    }\n",
              "</style>\n",
              "<table border=\"1\" class=\"dataframe\">\n",
              "  <thead>\n",
              "    <tr style=\"text-align: right;\">\n",
              "      <th></th>\n",
              "      <th>year</th>\n",
              "      <th>expe_education_%expe</th>\n",
              "      <th>health_expe_/capita</th>\n",
              "      <th>total_education_expe</th>\n",
              "      <th>health_expe_%gdp</th>\n",
              "      <th>tax_revenue_%gdp</th>\n",
              "      <th>revenue_excl_grants_%gdp</th>\n",
              "      <th>ibrd_and_ida</th>\n",
              "      <th>population_growth_annual%</th>\n",
              "      <th>gdp_growth_/capita_%gdp</th>\n",
              "      <th>gdp deflator</th>\n",
              "      <th>domestic_health_expenditure_%gdp</th>\n",
              "      <th>gdp_growth_annual%</th>\n",
              "      <th>gross_nat_expe_%gdp</th>\n",
              "      <th>gdp_current_lcu</th>\n",
              "      <th>grossnational_exp</th>\n",
              "      <th>education_exp</th>\n",
              "    </tr>\n",
              "  </thead>\n",
              "  <tbody>\n",
              "    <tr>\n",
              "      <th>0</th>\n",
              "      <td>2003</td>\n",
              "      <td>20.8507</td>\n",
              "      <td>25.4379</td>\n",
              "      <td>24.9801</td>\n",
              "      <td>5.1691</td>\n",
              "      <td>16.877</td>\n",
              "      <td>21.7389</td>\n",
              "      <td>2.741964e+09</td>\n",
              "      <td>2.7096</td>\n",
              "      <td>0.1809</td>\n",
              "      <td>51.8242</td>\n",
              "      <td>1.4884</td>\n",
              "      <td>2.9325</td>\n",
              "      <td>111.7326</td>\n",
              "      <td>1131782000000</td>\n",
              "      <td>1.264569e+12</td>\n",
              "      <td>3.158907e+11</td>\n",
              "    </tr>\n",
              "    <tr>\n",
              "      <th>1</th>\n",
              "      <td>2004</td>\n",
              "      <td>23.4095</td>\n",
              "      <td>27.5270</td>\n",
              "      <td>26.6682</td>\n",
              "      <td>5.3449</td>\n",
              "      <td>16.877</td>\n",
              "      <td>21.7389</td>\n",
              "      <td>2.882726e+09</td>\n",
              "      <td>2.7208</td>\n",
              "      <td>2.2832</td>\n",
              "      <td>55.5177</td>\n",
              "      <td>1.4160</td>\n",
              "      <td>5.1043</td>\n",
              "      <td>110.3472</td>\n",
              "      <td>1274329000000</td>\n",
              "      <td>1.406186e+12</td>\n",
              "      <td>3.750046e+11</td>\n",
              "    </tr>\n",
              "    <tr>\n",
              "      <th>2</th>\n",
              "      <td>2005</td>\n",
              "      <td>22.5437</td>\n",
              "      <td>30.9610</td>\n",
              "      <td>27.4693</td>\n",
              "      <td>5.3144</td>\n",
              "      <td>16.877</td>\n",
              "      <td>21.7389</td>\n",
              "      <td>2.663224e+09</td>\n",
              "      <td>2.7392</td>\n",
              "      <td>3.0450</td>\n",
              "      <td>58.2378</td>\n",
              "      <td>1.4827</td>\n",
              "      <td>5.9067</td>\n",
              "      <td>110.4293</td>\n",
              "      <td>1415725000000</td>\n",
              "      <td>1.563375e+12</td>\n",
              "      <td>4.294482e+11</td>\n",
              "    </tr>\n",
              "  </tbody>\n",
              "</table>\n",
              "</div>"
            ],
            "text/plain": [
              "   year  expe_education_%expe  ...  grossnational_exp  education_exp\n",
              "0  2003               20.8507  ...       1.264569e+12   3.158907e+11\n",
              "1  2004               23.4095  ...       1.406186e+12   3.750046e+11\n",
              "2  2005               22.5437  ...       1.563375e+12   4.294482e+11\n",
              "\n",
              "[3 rows x 17 columns]"
            ]
          },
          "metadata": {
            "tags": []
          },
          "execution_count": 79
        }
      ]
    },
    {
      "cell_type": "code",
      "metadata": {
        "id": "sF4J8vqP4w9O",
        "colab_type": "code",
        "colab": {
          "base_uri": "https://localhost:8080/"
        },
        "outputId": "99ba636f-6f86-439a-8edc-540d67c410a3"
      },
      "source": [
        "# finding total expenditure on health\n",
        "df[\"health_exp\"] = df[\"domestic_health_expenditure_%gdp\"]/100 * df[\"gdp_current_lcu\"]\n",
        "df.head(3)"
      ],
      "execution_count": null,
      "outputs": [
        {
          "output_type": "execute_result",
          "data": {
            "text/html": [
              "<div>\n",
              "<style scoped>\n",
              "    .dataframe tbody tr th:only-of-type {\n",
              "        vertical-align: middle;\n",
              "    }\n",
              "\n",
              "    .dataframe tbody tr th {\n",
              "        vertical-align: top;\n",
              "    }\n",
              "\n",
              "    .dataframe thead th {\n",
              "        text-align: right;\n",
              "    }\n",
              "</style>\n",
              "<table border=\"1\" class=\"dataframe\">\n",
              "  <thead>\n",
              "    <tr style=\"text-align: right;\">\n",
              "      <th></th>\n",
              "      <th>year</th>\n",
              "      <th>expe_education_%expe</th>\n",
              "      <th>health_expe_/capita</th>\n",
              "      <th>total_education_expe</th>\n",
              "      <th>health_expe_%gdp</th>\n",
              "      <th>tax_revenue_%gdp</th>\n",
              "      <th>revenue_excl_grants_%gdp</th>\n",
              "      <th>ibrd_and_ida</th>\n",
              "      <th>population_growth_annual%</th>\n",
              "      <th>gdp_growth_/capita_%gdp</th>\n",
              "      <th>gdp deflator</th>\n",
              "      <th>domestic_health_expenditure_%gdp</th>\n",
              "      <th>gdp_growth_annual%</th>\n",
              "      <th>gross_nat_expe_%gdp</th>\n",
              "      <th>gdp_current_lcu</th>\n",
              "      <th>grossnational_exp</th>\n",
              "      <th>education_exp</th>\n",
              "      <th>health_exp</th>\n",
              "    </tr>\n",
              "  </thead>\n",
              "  <tbody>\n",
              "    <tr>\n",
              "      <th>0</th>\n",
              "      <td>2003</td>\n",
              "      <td>20.8507</td>\n",
              "      <td>25.4379</td>\n",
              "      <td>24.9801</td>\n",
              "      <td>5.1691</td>\n",
              "      <td>16.877</td>\n",
              "      <td>21.7389</td>\n",
              "      <td>2.741964e+09</td>\n",
              "      <td>2.7096</td>\n",
              "      <td>0.1809</td>\n",
              "      <td>51.8242</td>\n",
              "      <td>1.4884</td>\n",
              "      <td>2.9325</td>\n",
              "      <td>111.7326</td>\n",
              "      <td>1131782000000</td>\n",
              "      <td>1.264569e+12</td>\n",
              "      <td>3.158907e+11</td>\n",
              "      <td>1.684544e+10</td>\n",
              "    </tr>\n",
              "    <tr>\n",
              "      <th>1</th>\n",
              "      <td>2004</td>\n",
              "      <td>23.4095</td>\n",
              "      <td>27.5270</td>\n",
              "      <td>26.6682</td>\n",
              "      <td>5.3449</td>\n",
              "      <td>16.877</td>\n",
              "      <td>21.7389</td>\n",
              "      <td>2.882726e+09</td>\n",
              "      <td>2.7208</td>\n",
              "      <td>2.2832</td>\n",
              "      <td>55.5177</td>\n",
              "      <td>1.4160</td>\n",
              "      <td>5.1043</td>\n",
              "      <td>110.3472</td>\n",
              "      <td>1274329000000</td>\n",
              "      <td>1.406186e+12</td>\n",
              "      <td>3.750046e+11</td>\n",
              "      <td>1.804450e+10</td>\n",
              "    </tr>\n",
              "    <tr>\n",
              "      <th>2</th>\n",
              "      <td>2005</td>\n",
              "      <td>22.5437</td>\n",
              "      <td>30.9610</td>\n",
              "      <td>27.4693</td>\n",
              "      <td>5.3144</td>\n",
              "      <td>16.877</td>\n",
              "      <td>21.7389</td>\n",
              "      <td>2.663224e+09</td>\n",
              "      <td>2.7392</td>\n",
              "      <td>3.0450</td>\n",
              "      <td>58.2378</td>\n",
              "      <td>1.4827</td>\n",
              "      <td>5.9067</td>\n",
              "      <td>110.4293</td>\n",
              "      <td>1415725000000</td>\n",
              "      <td>1.563375e+12</td>\n",
              "      <td>4.294482e+11</td>\n",
              "      <td>2.099095e+10</td>\n",
              "    </tr>\n",
              "  </tbody>\n",
              "</table>\n",
              "</div>"
            ],
            "text/plain": [
              "   year  expe_education_%expe  ...  education_exp    health_exp\n",
              "0  2003               20.8507  ...   3.158907e+11  1.684544e+10\n",
              "1  2004               23.4095  ...   3.750046e+11  1.804450e+10\n",
              "2  2005               22.5437  ...   4.294482e+11  2.099095e+10\n",
              "\n",
              "[3 rows x 18 columns]"
            ]
          },
          "metadata": {
            "tags": []
          },
          "execution_count": 80
        }
      ]
    },
    {
      "cell_type": "code",
      "metadata": {
        "id": "V4_9BWWLtpWt",
        "colab_type": "code",
        "colab": {
          "base_uri": "https://localhost:8080/"
        },
        "outputId": "eb2c5eaa-b307-45d7-f7d0-736dbaa1f0f0"
      },
      "source": [
        "# the year with the highest health expenditure\n",
        "df.plot(x=\"year\", y=[\"health_exp\"], kind=\"bar\")"
      ],
      "execution_count": null,
      "outputs": [
        {
          "output_type": "execute_result",
          "data": {
            "text/plain": [
              "<matplotlib.axes._subplots.AxesSubplot at 0x7efd2db766d8>"
            ]
          },
          "metadata": {
            "tags": []
          },
          "execution_count": 81
        },
        {
          "output_type": "display_data",
          "data": {
            "image/png": "[encoded data removed]",
            "text/plain": [
              "<Figure size 432x288 with 1 Axes>"
            ]
          },
          "metadata": {
            "tags": [],
            "needs_background": "light"
          }
        }
      ]
    },
    {
      "cell_type": "markdown",
      "metadata": {
        "colab_type": "text",
        "id": "AdPUsNvYOMZ6"
      },
      "source": [
        "## 5 <font color=\"green\">Which year had the highest expenditure on Education.</font>"
      ]
    },
    {
      "cell_type": "code",
      "metadata": {
        "id": "EKy65Bg1JhGZ",
        "colab_type": "code",
        "colab": {
          "base_uri": "https://localhost:8080/"
        },
        "outputId": "e0992cd8-d7b9-4046-c54e-cfa12a028257"
      },
      "source": [
        "# year with the highest expenditure on education\n",
        "df.plot(x='year', y=['education_exp'], kind=\"bar\")"
      ],
      "execution_count": null,
      "outputs": [
        {
          "output_type": "execute_result",
          "data": {
            "text/plain": [
              "<matplotlib.axes._subplots.AxesSubplot at 0x7efd2daf8208>"
            ]
          },
          "metadata": {
            "tags": []
          },
          "execution_count": 82
        },
        {
          "output_type": "display_data",
          "data": {
            "image/png": "[encoded data removed]",
            "text/plain": [
              "<Figure size 432x288 with 1 Axes>"
            ]
          },
          "metadata": {
            "tags": [],
            "needs_background": "light"
          }
        }
      ]
    },
    {
      "cell_type": "markdown",
      "metadata": {
        "id": "VmkW_-S6N4Y7",
        "colab_type": "text"
      },
      "source": [
        "## 6 <font color=\"green\">How does Govt. Spending on Education & Health affect GDP growth.</font>"
      ]
    },
    {
      "cell_type": "code",
      "metadata": {
        "id": "3T-y9r_NMsyS",
        "colab_type": "code",
        "colab": {
          "base_uri": "https://localhost:8080/"
        },
        "outputId": "66bea8a5-b215-4530-a2d4-bb1bf35abbf2"
      },
      "source": [
        "#adding health and education expenditure\n",
        "df['total_health/edu_exp'] = df['education_exp'] + df['health_exp']\n",
        "df.head(3)"
      ],
      "execution_count": null,
      "outputs": [
        {
          "output_type": "execute_result",
          "data": {
            "text/html": [
              "<div>\n",
              "<style scoped>\n",
              "    .dataframe tbody tr th:only-of-type {\n",
              "        vertical-align: middle;\n",
              "    }\n",
              "\n",
              "    .dataframe tbody tr th {\n",
              "        vertical-align: top;\n",
              "    }\n",
              "\n",
              "    .dataframe thead th {\n",
              "        text-align: right;\n",
              "    }\n",
              "</style>\n",
              "<table border=\"1\" class=\"dataframe\">\n",
              "  <thead>\n",
              "    <tr style=\"text-align: right;\">\n",
              "      <th></th>\n",
              "      <th>year</th>\n",
              "      <th>expe_education_%expe</th>\n",
              "      <th>health_expe_/capita</th>\n",
              "      <th>total_education_expe</th>\n",
              "      <th>health_expe_%gdp</th>\n",
              "      <th>tax_revenue_%gdp</th>\n",
              "      <th>revenue_excl_grants_%gdp</th>\n",
              "      <th>ibrd_and_ida</th>\n",
              "      <th>population_growth_annual%</th>\n",
              "      <th>gdp_growth_/capita_%gdp</th>\n",
              "      <th>gdp deflator</th>\n",
              "      <th>domestic_health_expenditure_%gdp</th>\n",
              "      <th>gdp_growth_annual%</th>\n",
              "      <th>gross_nat_expe_%gdp</th>\n",
              "      <th>gdp_current_lcu</th>\n",
              "      <th>grossnational_exp</th>\n",
              "      <th>education_exp</th>\n",
              "      <th>health_exp</th>\n",
              "      <th>total_health/edu_exp</th>\n",
              "    </tr>\n",
              "  </thead>\n",
              "  <tbody>\n",
              "    <tr>\n",
              "      <th>0</th>\n",
              "      <td>2003</td>\n",
              "      <td>20.8507</td>\n",
              "      <td>25.4379</td>\n",
              "      <td>24.9801</td>\n",
              "      <td>5.1691</td>\n",
              "      <td>16.877</td>\n",
              "      <td>21.7389</td>\n",
              "      <td>2.741964e+09</td>\n",
              "      <td>2.7096</td>\n",
              "      <td>0.1809</td>\n",
              "      <td>51.8242</td>\n",
              "      <td>1.4884</td>\n",
              "      <td>2.9325</td>\n",
              "      <td>111.7326</td>\n",
              "      <td>1131782000000</td>\n",
              "      <td>1.264569e+12</td>\n",
              "      <td>3.158907e+11</td>\n",
              "      <td>1.684544e+10</td>\n",
              "      <td>3.327362e+11</td>\n",
              "    </tr>\n",
              "    <tr>\n",
              "      <th>1</th>\n",
              "      <td>2004</td>\n",
              "      <td>23.4095</td>\n",
              "      <td>27.5270</td>\n",
              "      <td>26.6682</td>\n",
              "      <td>5.3449</td>\n",
              "      <td>16.877</td>\n",
              "      <td>21.7389</td>\n",
              "      <td>2.882726e+09</td>\n",
              "      <td>2.7208</td>\n",
              "      <td>2.2832</td>\n",
              "      <td>55.5177</td>\n",
              "      <td>1.4160</td>\n",
              "      <td>5.1043</td>\n",
              "      <td>110.3472</td>\n",
              "      <td>1274329000000</td>\n",
              "      <td>1.406186e+12</td>\n",
              "      <td>3.750046e+11</td>\n",
              "      <td>1.804450e+10</td>\n",
              "      <td>3.930491e+11</td>\n",
              "    </tr>\n",
              "    <tr>\n",
              "      <th>2</th>\n",
              "      <td>2005</td>\n",
              "      <td>22.5437</td>\n",
              "      <td>30.9610</td>\n",
              "      <td>27.4693</td>\n",
              "      <td>5.3144</td>\n",
              "      <td>16.877</td>\n",
              "      <td>21.7389</td>\n",
              "      <td>2.663224e+09</td>\n",
              "      <td>2.7392</td>\n",
              "      <td>3.0450</td>\n",
              "      <td>58.2378</td>\n",
              "      <td>1.4827</td>\n",
              "      <td>5.9067</td>\n",
              "      <td>110.4293</td>\n",
              "      <td>1415725000000</td>\n",
              "      <td>1.563375e+12</td>\n",
              "      <td>4.294482e+11</td>\n",
              "      <td>2.099095e+10</td>\n",
              "      <td>4.504392e+11</td>\n",
              "    </tr>\n",
              "  </tbody>\n",
              "</table>\n",
              "</div>"
            ],
            "text/plain": [
              "   year  expe_education_%expe  ...    health_exp  total_health/edu_exp\n",
              "0  2003               20.8507  ...  1.684544e+10          3.327362e+11\n",
              "1  2004               23.4095  ...  1.804450e+10          3.930491e+11\n",
              "2  2005               22.5437  ...  2.099095e+10          4.504392e+11\n",
              "\n",
              "[3 rows x 19 columns]"
            ]
          },
          "metadata": {
            "tags": []
          },
          "execution_count": 83
        }
      ]
    },
    {
      "cell_type": "code",
      "metadata": {
        "id": "T0CiNVS1NgIk",
        "colab_type": "code",
        "colab": {
          "base_uri": "https://localhost:8080/"
        },
        "outputId": "7b05494a-1131-4661-861b-b82cb749fbd7"
      },
      "source": [
        "#plotting total expenditure in health and education against annual gdp growth\n",
        "df.plot(x= 'total_health/edu_exp', y='gdp_growth_annual%', style='o')\n",
        "plt.xlabel('total_health/edu_exp')\n",
        "plt.ylabel('gdp_growth_annual%')\n",
        "plt.show"
      ],
      "execution_count": null,
      "outputs": [
        {
          "output_type": "execute_result",
          "data": {
            "text/plain": [
              "<function matplotlib.pyplot.show>"
            ]
          },
          "metadata": {
            "tags": []
          },
          "execution_count": 84
        },
        {
          "output_type": "display_data",
          "data": {
            "image/png": "[encoded data removed]",
            "text/plain": [
              "<Figure size 432x288 with 1 Axes>"
            ]
          },
          "metadata": {
            "tags": [],
            "needs_background": "light"
          }
        }
      ]
    },
    {
      "cell_type": "code",
      "metadata": {
        "id": "8QBBh8b_NkX8",
        "colab_type": "code",
        "colab": {
          "base_uri": "https://localhost:8080/"
        },
        "outputId": "9e1cadf2-4039-45fe-bec7-f7c73a58de6a"
      },
      "source": [
        "#fitting a linear regression of gdp growth\n",
        "x = pd.DataFrame(df['total_health/edu_exp'])\n",
        "y = pd.DataFrame(df['gdp_growth_annual%'])\n",
        "from sklearn.linear_model import LinearRegression\n",
        "reg = LinearRegression()\n",
        "reg.fit(x, y)"
      ],
      "execution_count": null,
      "outputs": [
        {
          "output_type": "execute_result",
          "data": {
            "text/plain": [
              "LinearRegression(copy_X=True, fit_intercept=True, n_jobs=None, normalize=False)"
            ]
          },
          "metadata": {
            "tags": []
          },
          "execution_count": 85
        }
      ]
    },
    {
      "cell_type": "code",
      "metadata": {
        "id": "rADYFZaGOHlL",
        "colab_type": "code",
        "colab": {
          "base_uri": "https://localhost:8080/"
        },
        "outputId": "b66fcd9b-bb90-4e68-8bb4-95537a8517be"
      },
      "source": [
        "#extracting the coefficient of total expenditure in health and education\n",
        "reg.coef_"
      ],
      "execution_count": null,
      "outputs": [
        {
          "output_type": "execute_result",
          "data": {
            "text/plain": [
              "array([[5.27544021e-13]])"
            ]
          },
          "metadata": {
            "tags": []
          },
          "execution_count": 86
        }
      ]
    },
    {
      "cell_type": "markdown",
      "metadata": {
        "id": "WmZQyy2agRgQ",
        "colab_type": "text"
      },
      "source": [
        "The results suggest that government expenditure on education and health affects gdp growth positively \n",
        "\n",
        "A unit increase in government expenditure leads to 5.2754e-13 unit increase in gdp growth"
      ]
    },
    {
      "cell_type": "markdown",
      "metadata": {
        "colab_type": "text",
        "id": "xF7c31tNBQ6N"
      },
      "source": [
        "## Step 4: Recommendation"
      ]
    },
    {
      "cell_type": "markdown",
      "metadata": {
        "id": "QYv4kdo-XUje",
        "colab_type": "text"
      },
      "source": [
        "*The Kenyan government can ensure human capital development by; building more schools, training and employing more teachers to ensure good quality education, making education accessible for all by all and reducing the cost of education hence making it affordable and inclusive for everyone. This increases human capital development and GDP growth.*"
      ]
    },
    {
      "cell_type": "markdown",
      "metadata": {
        "id": "W3nhaKbmXj_9",
        "colab_type": "text"
      },
      "source": [
        "\n",
        "*The Kenyan government can also continue to make more capital investments in the health sector like buying modern health equipment,building more hospitals, training more health practitioners and funding research and development in health so as to counter tropical health epidemics.*"
      ]
    }
  ]
}